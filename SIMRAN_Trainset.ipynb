{
 "cells": [
  {
   "cell_type": "code",
   "execution_count": 1,
   "metadata": {},
   "outputs": [],
   "source": [
    "from tensorflow.keras.models import Sequential\n",
    "from tensorflow.keras.layers import Dense, Convolution2D, MaxPooling2D, Flatten"
   ]
  },
  {
   "cell_type": "code",
   "execution_count": 2,
   "metadata": {},
   "outputs": [],
   "source": [
    "from tensorflow.keras.preprocessing.image import ImageDataGenerator\n",
    "\n",
    "train_datagen = ImageDataGenerator(rescale=1./255, shear_range=0.2, zoom_range=0.2, horizontal_flip= True)\n",
    "test_datagen = ImageDataGenerator(rescale=1./255)"
   ]
  },
  {
   "cell_type": "code",
   "execution_count": 3,
   "metadata": {},
   "outputs": [
    {
     "name": "stdout",
     "output_type": "stream",
     "text": [
      "Found 1495 images belonging to 5 classes.\n",
      "Found 640 images belonging to 5 classes.\n"
     ]
    }
   ],
   "source": [
    "x_train = train_datagen.flow_from_directory(r\"C:\\EXTERNSHIP\\CNN ASSIGNMENT\\sweets\\trainset\", target_size=(64,64), \n",
    "                                            batch_size=32, class_mode= \"categorical\")\n",
    "x_test = test_datagen.flow_from_directory(r\"C:\\EXTERNSHIP\\CNN ASSIGNMENT\\sweets\\testset\", target_size=(64,64), \n",
    "                                            batch_size=32, class_mode= \"categorical\")"
   ]
  },
  {
   "cell_type": "code",
   "execution_count": 4,
   "metadata": {},
   "outputs": [],
   "source": [
    "cnn = Sequential()"
   ]
  },
  {
   "cell_type": "code",
   "execution_count": 5,
   "metadata": {},
   "outputs": [
    {
     "name": "stdout",
     "output_type": "stream",
     "text": [
      "WARNING:tensorflow:From C:\\Users\\HP\\Anaconda3\\lib\\site-packages\\tensorflow\\python\\ops\\init_ops.py:1251: calling VarianceScaling.__init__ (from tensorflow.python.ops.init_ops) with dtype is deprecated and will be removed in a future version.\n",
      "Instructions for updating:\n",
      "Call initializer instance with the dtype argument instead of passing it to the constructor\n"
     ]
    }
   ],
   "source": [
    "cnn.add(Convolution2D(32, (3,3), input_shape=(64,64,3)))"
   ]
  },
  {
   "cell_type": "code",
   "execution_count": 6,
   "metadata": {},
   "outputs": [
    {
     "name": "stdout",
     "output_type": "stream",
     "text": [
      "WARNING:tensorflow:From C:\\Users\\HP\\Anaconda3\\lib\\site-packages\\tensorflow\\python\\keras\\initializers.py:119: calling RandomUniform.__init__ (from tensorflow.python.ops.init_ops) with dtype is deprecated and will be removed in a future version.\n",
      "Instructions for updating:\n",
      "Call initializer instance with the dtype argument instead of passing it to the constructor\n"
     ]
    }
   ],
   "source": [
    "cnn.add(MaxPooling2D((2,2)))\n",
    "cnn.add(Flatten())\n",
    "cnn.add(Dense(units=128, kernel_initializer=\"random_uniform\", activation=\"relu\"))"
   ]
  },
  {
   "cell_type": "code",
   "execution_count": 7,
   "metadata": {},
   "outputs": [],
   "source": [
    "cnn.add(Dense(units=5, kernel_initializer=\"random_uniform\", activation=\"softmax\"))"
   ]
  },
  {
   "cell_type": "code",
   "execution_count": 9,
   "metadata": {},
   "outputs": [],
   "source": [
    "cnn.compile(optimizer=\"adam\", loss=\"categorical_crossentropy\", metrics=[\"accuracy\"])"
   ]
  },
  {
   "cell_type": "code",
   "execution_count": 10,
   "metadata": {},
   "outputs": [
    {
     "name": "stdout",
     "output_type": "stream",
     "text": [
      "Epoch 1/10\n",
      "47/46 [==============================] - 24s 514ms/step - loss: 1.5606 - acc: 0.3538 - val_loss: 1.3934 - val_acc: 0.3047\n",
      "Epoch 2/10\n",
      "47/46 [==============================] - 13s 270ms/step - loss: 1.2650 - acc: 0.4896 - val_loss: 1.3020 - val_acc: 0.4187\n",
      "Epoch 3/10\n",
      "47/46 [==============================] - 13s 277ms/step - loss: 1.1049 - acc: 0.5766 - val_loss: 1.2079 - val_acc: 0.5109\n",
      "Epoch 4/10\n",
      "47/46 [==============================] - 13s 279ms/step - loss: 0.9843 - acc: 0.6201 - val_loss: 0.8906 - val_acc: 0.6625\n",
      "Epoch 5/10\n",
      "47/46 [==============================] - 13s 274ms/step - loss: 0.9011 - acc: 0.6548 - val_loss: 0.8711 - val_acc: 0.6484\n",
      "Epoch 6/10\n",
      "47/46 [==============================] - 14s 291ms/step - loss: 0.8088 - acc: 0.6950 - val_loss: 0.6748 - val_acc: 0.7422\n",
      "Epoch 7/10\n",
      "47/46 [==============================] - 15s 321ms/step - loss: 0.7144 - acc: 0.7365 - val_loss: 0.5532 - val_acc: 0.7937\n",
      "Epoch 8/10\n",
      "47/46 [==============================] - 14s 295ms/step - loss: 0.6695 - acc: 0.7639 - val_loss: 0.5457 - val_acc: 0.7719\n",
      "Epoch 9/10\n",
      "47/46 [==============================] - 13s 275ms/step - loss: 0.5674 - acc: 0.7953 - val_loss: 0.5022 - val_acc: 0.8234\n",
      "Epoch 10/10\n",
      "47/46 [==============================] - 14s 295ms/step - loss: 0.5245 - acc: 0.8274 - val_loss: 0.4127 - val_acc: 0.8547\n"
     ]
    },
    {
     "data": {
      "text/plain": [
       "<tensorflow.python.keras.callbacks.History at 0x216e4aa97f0>"
      ]
     },
     "execution_count": 10,
     "metadata": {},
     "output_type": "execute_result"
    }
   ],
   "source": [
    "cnn.fit_generator(x_train, steps_per_epoch=1495/32, epochs=10, validation_data=x_test, validation_steps=640/32)"
   ]
  },
  {
   "cell_type": "code",
   "execution_count": 11,
   "metadata": {},
   "outputs": [],
   "source": [
    "cnn.save(\"sweet.h5\")"
   ]
  },
  {
   "cell_type": "code",
   "execution_count": null,
   "metadata": {},
   "outputs": [],
   "source": []
  }
 ],
 "metadata": {
  "kernelspec": {
   "display_name": "Python 3",
   "language": "python",
   "name": "python3"
  },
  "language_info": {
   "codemirror_mode": {
    "name": "ipython",
    "version": 3
   },
   "file_extension": ".py",
   "mimetype": "text/x-python",
   "name": "python",
   "nbconvert_exporter": "python",
   "pygments_lexer": "ipython3",
   "version": "3.7.3"
  }
 },
 "nbformat": 4,
 "nbformat_minor": 2
}
