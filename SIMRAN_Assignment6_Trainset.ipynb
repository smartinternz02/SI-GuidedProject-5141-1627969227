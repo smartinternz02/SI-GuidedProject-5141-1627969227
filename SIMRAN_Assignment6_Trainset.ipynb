{
 "cells": [
  {
   "cell_type": "code",
   "execution_count": 1,
   "metadata": {},
   "outputs": [],
   "source": [
    "from tensorflow.keras.models import Sequential\n",
    "from tensorflow.keras.layers import Dense, Convolution2D, MaxPooling2D, Flatten"
   ]
  },
  {
   "cell_type": "code",
   "execution_count": 2,
   "metadata": {},
   "outputs": [],
   "source": [
    "from tensorflow.keras.preprocessing.image import ImageDataGenerator\n",
    "\n",
    "train_datagen = ImageDataGenerator(rescale=1./255, shear_range=0.2, zoom_range=0.2, horizontal_flip= True)\n",
    "test_datagen = ImageDataGenerator(rescale=1./255)"
   ]
  },
  {
   "cell_type": "code",
   "execution_count": 3,
   "metadata": {},
   "outputs": [
    {
     "name": "stdout",
     "output_type": "stream",
     "text": [
      "Found 1495 images belonging to 5 classes.\n",
      "Found 640 images belonging to 5 classes.\n"
     ]
    }
   ],
   "source": [
    "x_train = train_datagen.flow_from_directory(r\"C:\\EXTERNSHIP\\trainset\", target_size=(64,64), \n",
    "                                            batch_size=32, class_mode= \"categorical\")\n",
    "x_test = test_datagen.flow_from_directory(r\"C:\\EXTERNSHIP\\testset\", target_size=(64,64), \n",
    "                                            batch_size=32, class_mode= \"categorical\")"
   ]
  },
  {
   "cell_type": "code",
   "execution_count": 4,
   "metadata": {},
   "outputs": [],
   "source": [
    "cnn = Sequential()"
   ]
  },
  {
   "cell_type": "code",
   "execution_count": 5,
   "metadata": {},
   "outputs": [
    {
     "name": "stdout",
     "output_type": "stream",
     "text": [
      "WARNING:tensorflow:From C:\\Users\\HP\\Anaconda3\\lib\\site-packages\\tensorflow\\python\\ops\\init_ops.py:1251: calling VarianceScaling.__init__ (from tensorflow.python.ops.init_ops) with dtype is deprecated and will be removed in a future version.\n",
      "Instructions for updating:\n",
      "Call initializer instance with the dtype argument instead of passing it to the constructor\n"
     ]
    }
   ],
   "source": [
    "cnn.add(Convolution2D(32, (3,3), input_shape=(64,64,3)))"
   ]
  },
  {
   "cell_type": "code",
   "execution_count": 6,
   "metadata": {},
   "outputs": [
    {
     "name": "stdout",
     "output_type": "stream",
     "text": [
      "WARNING:tensorflow:From C:\\Users\\HP\\Anaconda3\\lib\\site-packages\\tensorflow\\python\\keras\\initializers.py:119: calling RandomUniform.__init__ (from tensorflow.python.ops.init_ops) with dtype is deprecated and will be removed in a future version.\n",
      "Instructions for updating:\n",
      "Call initializer instance with the dtype argument instead of passing it to the constructor\n"
     ]
    }
   ],
   "source": [
    "cnn.add(MaxPooling2D((2,2)))\n",
    "cnn.add(Flatten())\n",
    "cnn.add(Dense(units=128, kernel_initializer=\"random_uniform\", activation=\"relu\"))"
   ]
  },
  {
   "cell_type": "code",
   "execution_count": 7,
   "metadata": {},
   "outputs": [],
   "source": [
    "cnn.add(Dense(units=5, kernel_initializer=\"random_uniform\", activation=\"softmax\"))"
   ]
  },
  {
   "cell_type": "code",
   "execution_count": 8,
   "metadata": {},
   "outputs": [],
   "source": [
    "cnn.compile(optimizer=\"adam\", loss=\"categorical_crossentropy\", metrics=[\"accuracy\"])"
   ]
  },
  {
   "cell_type": "code",
   "execution_count": 10,
   "metadata": {},
   "outputs": [
    {
     "name": "stdout",
     "output_type": "stream",
     "text": [
      "Epoch 1/10\n",
      "47/46 [==============================] - 16s 332ms/step - loss: 0.8892 - acc: 0.6669 - val_loss: 0.7600 - val_acc: 0.7234\n",
      "Epoch 2/10\n",
      "47/46 [==============================] - 14s 300ms/step - loss: 0.8161 - acc: 0.6910 - val_loss: 0.7899 - val_acc: 0.6687\n",
      "Epoch 3/10\n",
      "47/46 [==============================] - 13s 281ms/step - loss: 0.7482 - acc: 0.7324 - val_loss: 0.6341 - val_acc: 0.7547\n",
      "Epoch 4/10\n",
      "47/46 [==============================] - 13s 283ms/step - loss: 0.7073 - acc: 0.7438 - val_loss: 0.6444 - val_acc: 0.7344\n",
      "Epoch 5/10\n",
      "47/46 [==============================] - 13s 285ms/step - loss: 0.6033 - acc: 0.7826 - val_loss: 0.5426 - val_acc: 0.7812\n",
      "Epoch 6/10\n",
      "47/46 [==============================] - 13s 287ms/step - loss: 0.6090 - acc: 0.7806 - val_loss: 0.4791 - val_acc: 0.8125\n",
      "Epoch 7/10\n",
      "47/46 [==============================] - 14s 289ms/step - loss: 0.5652 - acc: 0.7893 - val_loss: 0.5292 - val_acc: 0.7781\n",
      "Epoch 8/10\n",
      "47/46 [==============================] - 13s 279ms/step - loss: 0.4988 - acc: 0.8227 - val_loss: 0.3964 - val_acc: 0.8562\n",
      "Epoch 9/10\n",
      "47/46 [==============================] - 13s 284ms/step - loss: 0.4070 - acc: 0.8649 - val_loss: 0.5524 - val_acc: 0.7594\n",
      "Epoch 10/10\n",
      "47/46 [==============================] - 14s 292ms/step - loss: 0.3871 - acc: 0.8742 - val_loss: 0.2705 - val_acc: 0.9266\n"
     ]
    },
    {
     "data": {
      "text/plain": [
       "<tensorflow.python.keras.callbacks.History at 0x1c932c9e0b8>"
      ]
     },
     "execution_count": 10,
     "metadata": {},
     "output_type": "execute_result"
    }
   ],
   "source": [
    "cnn.fit_generator(x_train, steps_per_epoch=1495/32, epochs=10, validation_data=x_test, validation_steps=640/32)"
   ]
  },
  {
   "cell_type": "code",
   "execution_count": 11,
   "metadata": {},
   "outputs": [],
   "source": [
    "cnn.save(\"sweets.h5\")"
   ]
  },
  {
   "cell_type": "code",
   "execution_count": null,
   "metadata": {},
   "outputs": [],
   "source": []
  }
 ],
 "metadata": {
  "kernelspec": {
   "display_name": "Python 3",
   "language": "python",
   "name": "python3"
  },
  "language_info": {
   "codemirror_mode": {
    "name": "ipython",
    "version": 3
   },
   "file_extension": ".py",
   "mimetype": "text/x-python",
   "name": "python",
   "nbconvert_exporter": "python",
   "pygments_lexer": "ipython3",
   "version": "3.7.3"
  }
 },
 "nbformat": 4,
 "nbformat_minor": 2
}
